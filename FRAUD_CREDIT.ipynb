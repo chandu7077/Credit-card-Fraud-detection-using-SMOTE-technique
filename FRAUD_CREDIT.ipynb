{
 "cells": [
  {
   "cell_type": "code",
   "execution_count": 2,
   "metadata": {},
   "outputs": [],
   "source": [
    "\n",
    "import pandas as pd\n",
    "import matplotlib.pyplot as plt\n",
    "%matplotlib inline\n",
    "import numpy as np\n",
    "import seaborn as sns\n",
    "from imblearn.over_sampling import SMOTE\n",
    "from sklearn.ensemble import RandomForestClassifier,AdaBoostClassifier\n",
    "from time import time\n",
    "from sklearn.neural_network import MLPClassifier\n",
    "from sklearn import metrics\n",
    "from sklearn.tree import DecisionTreeClassifier"
   ]
  },
  {
   "cell_type": "code",
   "execution_count": 5,
   "metadata": {},
   "outputs": [],
   "source": [
    "df=pd.read_csv(\"/root/Documents/DATASETS/CC.csv\",index_col=0)"
   ]
  },
  {
   "cell_type": "code",
   "execution_count": 7,
   "metadata": {},
   "outputs": [
    {
     "data": {
      "text/plain": [
       "(284807, 31)"
      ]
     },
     "execution_count": 7,
     "metadata": {},
     "output_type": "execute_result"
    }
   ],
   "source": [
    "df.shape"
   ]
  },
  {
   "cell_type": "code",
   "execution_count": 78,
   "metadata": {},
   "outputs": [
    {
     "data": {
      "text/plain": [
       "count    284807.000000\n",
       "mean         88.349619\n",
       "std         250.120109\n",
       "min           0.000000\n",
       "25%           5.600000\n",
       "50%          22.000000\n",
       "75%          77.165000\n",
       "max       25691.160000\n",
       "Name: Amount, dtype: float64"
      ]
     },
     "execution_count": 78,
     "metadata": {},
     "output_type": "execute_result"
    }
   ],
   "source": [
    "df.Amount.describe()"
   ]
  },
  {
   "cell_type": "code",
   "execution_count": 5,
   "metadata": {},
   "outputs": [
    {
     "data": {
      "text/plain": [
       "0    284315\n",
       "1       492\n",
       "Name: Class, dtype: int64"
      ]
     },
     "execution_count": 5,
     "metadata": {},
     "output_type": "execute_result"
    }
   ],
   "source": [
    "df.Class.value_counts()"
   ]
  },
  {
   "cell_type": "code",
   "execution_count": 6,
   "metadata": {},
   "outputs": [
    {
     "data": {
      "text/plain": [
       "<matplotlib.axes._subplots.AxesSubplot at 0x7f105c9fc8d0>"
      ]
     },
     "execution_count": 6,
     "metadata": {},
     "output_type": "execute_result"
    },
    {
     "data": {
      "image/png": "[encoded data removed]",
      "text/plain": [
       "<matplotlib.figure.Figure at 0x7f105c9fc240>"
      ]
     },
     "metadata": {
      "needs_background": "light"
     },
     "output_type": "display_data"
    }
   ],
   "source": [
    "df.Time.plot(kind=\"hist\",bins=100)"
   ]
  },
  {
   "cell_type": "code",
   "execution_count": 7,
   "metadata": {},
   "outputs": [
    {
     "data": {
      "text/plain": [
       "array([[ 1.        , -0.01232257],\n",
       "       [-0.01232257,  1.        ]])"
      ]
     },
     "execution_count": 7,
     "metadata": {},
     "output_type": "execute_result"
    }
   ],
   "source": [
    "pd.np.corrcoef(df.Time,df.Class)\n",
    "#almost zero there is no coorelation"
   ]
  },
  {
   "cell_type": "code",
   "execution_count": 8,
   "metadata": {},
   "outputs": [],
   "source": [
    "df.drop(\"Time\",axis=1,inplace=True)"
   ]
  },
  {
   "cell_type": "code",
   "execution_count": 9,
   "metadata": {},
   "outputs": [
    {
     "data": {
      "text/plain": [
       "array([[ 1.        ,  0.00563175],\n",
       "       [ 0.00563175,  1.        ]])"
      ]
     },
     "execution_count": 9,
     "metadata": {},
     "output_type": "execute_result"
    }
   ],
   "source": [
    "#df.Amount.plot(kind=\"hist\")\n",
    "np.corrcoef(df.Amount,df.Class)\n",
    "#correlation is very less zero it means no correlation"
   ]
  },
  {
   "cell_type": "code",
   "execution_count": 10,
   "metadata": {},
   "outputs": [],
   "source": [
    "df.drop(\"Amount\",axis=1,inplace=True)"
   ]
  },
  {
   "cell_type": "code",
   "execution_count": 11,
   "metadata": {},
   "outputs": [
    {
     "data": {
      "text/plain": [
       "V1       0\n",
       "V2       0\n",
       "V3       0\n",
       "V4       0\n",
       "V5       0\n",
       "V6       0\n",
       "V7       0\n",
       "V8       0\n",
       "V9       0\n",
       "V10      0\n",
       "V11      0\n",
       "V12      0\n",
       "V13      0\n",
       "V14      0\n",
       "V15      0\n",
       "V16      0\n",
       "V17      0\n",
       "V18      0\n",
       "V19      0\n",
       "V20      0\n",
       "V21      0\n",
       "V22      0\n",
       "V23      0\n",
       "V24      0\n",
       "V25      0\n",
       "V26      0\n",
       "V27      0\n",
       "V28      0\n",
       "Class    0\n",
       "dtype: int64"
      ]
     },
     "execution_count": 11,
     "metadata": {},
     "output_type": "execute_result"
    }
   ],
   "source": [
    "df.isnull().sum()"
   ]
  },
  {
   "cell_type": "code",
   "execution_count": 11,
   "metadata": {},
   "outputs": [
    {
     "name": "stderr",
     "output_type": "stream",
     "text": [
      "/usr/local/lib/python3.6/dist-packages/sklearn/linear_model/logistic.py:432: FutureWarning: Default solver will be changed to 'lbfgs' in 0.22. Specify a solver to silence this warning.\n",
      "  FutureWarning)\n"
     ]
    },
    {
     "name": "stdout",
     "output_type": "stream",
     "text": [
      "99.9332888592\n",
      "[[56866    31]\n",
      " [    7    58]]\n"
     ]
    }
   ],
   "source": [
    "from sklearn.linear_model import LogisticRegression\n",
    "from sklearn.model_selection import train_test_split\n",
    "X=df.drop(\"Class\",axis=1)\n",
    "y=np.array(df.Class)\n",
    "Xtr,Xte,ytr,yte=train_test_split(X,y,test_size=0.2)\n",
    "clflr=LogisticRegression()\n",
    "clflr.fit(Xtr,ytr)\n",
    "pred=clflr.predict(Xte)\n",
    "from sklearn import metrics\n",
    "print(metrics.accuracy_score(pred,yte)*100)\n",
    "print(metrics.confusion_matrix(pred,yte))"
   ]
  },
  {
   "cell_type": "code",
   "execution_count": 51,
   "metadata": {},
   "outputs": [
    {
     "name": "stdout",
     "output_type": "stream",
     "text": [
      "CONFUSION MATRIX\n",
      " [[284275    193]\n",
      " [    40    299]]\n",
      "\n",
      "PRECISION SCORE\n",
      " 0.607723577236\n",
      "\n",
      "RECALL\n",
      " 0.882005899705\n"
     ]
    }
   ],
   "source": [
    "pred1=clflr.predict(X)\n",
    "print(\"CONFUSION MATRIX\\n\",metrics.confusion_matrix(pred1,y))\n",
    "print(\"\\nPRECISION SCORE\\n\",metrics.precision_score(pred1,y))\n",
    "print(\"\\nRECALL\\n\",metrics.recall_score(pred1,y))  #(299)/(299+41)\n",
    "#precision is very less\n",
    "#attack prediction is only true 60% of time"
   ]
  },
  {
   "cell_type": "code",
   "execution_count": 46,
   "metadata": {},
   "outputs": [
    {
     "name": "stdout",
     "output_type": "stream",
     "text": [
      "CONFUSION MATRIX [[571  33]\n",
      " [  7 372]] \n",
      "\n",
      "              precision    recall  f1-score   support\n",
      "\n",
      "           0       0.99      0.95      0.97       604\n",
      "           1       0.92      0.98      0.95       379\n",
      "\n",
      "   micro avg       0.96      0.96      0.96       983\n",
      "   macro avg       0.95      0.96      0.96       983\n",
      "weighted avg       0.96      0.96      0.96       983\n",
      "\n"
     ]
    },
    {
     "name": "stderr",
     "output_type": "stream",
     "text": [
      "/usr/local/lib/python3.6/dist-packages/sklearn/linear_model/logistic.py:432: FutureWarning: Default solver will be changed to 'lbfgs' in 0.22. Specify a solver to silence this warning.\n",
      "  FutureWarning)\n"
     ]
    }
   ],
   "source": [
    "#undersampling under\n",
    "from imblearn.under_sampling import RandomUnderSampler\n",
    "us=RandomUnderSampler(ratio=0.7)\n",
    "Xtru,ytru=us.fit_sample(Xtr,ytr)\n",
    "c1=Xtru[ytru==1]\n",
    "c2=Xtru[ytru==0]\n",
    "clflru=LogisticRegression()\n",
    "clflru.fit(Xtru,ytru)\n",
    "predu=clflru.predict(Xtru)\n",
    "print(\"CONFUSION MATRIX\",metrics.confusion_matrix(predu,ytru),\"\\n\")\n",
    "print(metrics.classification_report(predu,ytru))"
   ]
  },
  {
   "cell_type": "code",
   "execution_count": 52,
   "metadata": {},
   "outputs": [
    {
     "name": "stdout",
     "output_type": "stream",
     "text": [
      "[[276804     43]\n",
      " [  7511    449]]\n",
      "0.0564070351759\n"
     ]
    }
   ],
   "source": [
    "#prediction on main dataset\n",
    "predu2=clflru.predict(X)\n",
    "print(metrics.confusion_matrix(predu2,y))\n",
    "print(metrics.recall_score(predu2,y))"
   ]
  },
  {
   "cell_type": "code",
   "execution_count": 53,
   "metadata": {},
   "outputs": [
    {
     "name": "stdout",
     "output_type": "stream",
     "text": [
      "CONFUSION METRICS\n",
      " [[56849    27]\n",
      " [   26    60]]\n",
      "\n",
      "CLASSIFICATION REPORT\n",
      "               precision    recall  f1-score   support\n",
      "\n",
      "           0       1.00      1.00      1.00     56876\n",
      "           1       0.69      0.70      0.69        86\n",
      "\n",
      "   micro avg       1.00      1.00      1.00     56962\n",
      "   macro avg       0.84      0.85      0.85     56962\n",
      "weighted avg       1.00      1.00      1.00     56962\n",
      "\n"
     ]
    }
   ],
   "source": [
    "#oversampling\n",
    "from imblearn.over_sampling import RandomOverSampler\n",
    "from sklearn.tree import DecisionTreeClassifier\n",
    "os=RandomOverSampler(ratio=0.7)\n",
    "Xtro,ytro=os.fit_sample(Xtr,ytr)\n",
    "c1=Xtro[ytro==1]\n",
    "c2=Xtro[ytro==0]\n",
    "clflro=DecisionTreeClassifier()\n",
    "clflro.fit(Xtro,ytro)\n",
    "pred=clflro.predict(Xte)\n",
    "print(\"CONFUSION METRICS\\n\",metrics.confusion_matrix(pred,yte))\n",
    "print(\"\\nCLASSIFICATION REPORT\\n\",metrics.classification_report(pred,yte))"
   ]
  },
  {
   "cell_type": "code",
   "execution_count": 54,
   "metadata": {},
   "outputs": [
    {
     "name": "stdout",
     "output_type": "stream",
     "text": [
      "[[284289     27]\n",
      " [    26    465]]\n",
      "              precision    recall  f1-score   support\n",
      "\n",
      "           0       1.00      1.00      1.00    284316\n",
      "           1       0.95      0.95      0.95       491\n",
      "\n",
      "   micro avg       1.00      1.00      1.00    284807\n",
      "   macro avg       0.97      0.97      0.97    284807\n",
      "weighted avg       1.00      1.00      1.00    284807\n",
      "\n"
     ]
    }
   ],
   "source": [
    "pred=clflro.predict(X)\n",
    "print(metrics.confusion_matrix(pred,y))\n",
    "print(metrics.classification_report(pred,y))"
   ]
  },
  {
   "cell_type": "code",
   "execution_count": 55,
   "metadata": {},
   "outputs": [
    {
     "name": "stdout",
     "output_type": "stream",
     "text": [
      "227440 136464\n",
      "CONFUSION METRICS\n",
      " [[56738    20]\n",
      " [  137    67]]\n",
      "\n",
      "CLASSIFICATION REPORT\n",
      "               precision    recall  f1-score   support\n",
      "\n",
      "           0       1.00      1.00      1.00     56758\n",
      "           1       0.77      0.33      0.46       204\n",
      "\n",
      "   micro avg       1.00      1.00      1.00     56962\n",
      "   macro avg       0.88      0.66      0.73     56962\n",
      "weighted avg       1.00      1.00      1.00     56962\n",
      "\n"
     ]
    }
   ],
   "source": [
    "sm=SMOTE(sampling_strategy=0.6)\n",
    "Xtrsm,ytrsm=sm.fit_sample(Xtr,ytr)\n",
    "c0=Xtrsm[ytrsm==0]\n",
    "c1=Xtrsm[ytrsm==1]\n",
    "print(len(c0),len(c1))\n",
    "clfsm=DecisionTreeClassifier()\n",
    "clfsm.fit(Xtrsm,ytrsm)\n",
    "pred=clfsm.predict(Xte)\n",
    "print(\"CONFUSION METRICS\\n\",metrics.confusion_matrix(pred,yte))\n",
    "print(\"\\nCLASSIFICATION REPORT\\n\",metrics.classification_report(pred,yte))"
   ]
  },
  {
   "cell_type": "code",
   "execution_count": 56,
   "metadata": {},
   "outputs": [
    {
     "name": "stdout",
     "output_type": "stream",
     "text": [
      "CONFUSION METRICS\n",
      " [[284178     20]\n",
      " [   137    472]]\n",
      "\n",
      "CLASSIFICATION REPORT\n",
      "               precision    recall  f1-score   support\n",
      "\n",
      "           0       1.00      1.00      1.00    284198\n",
      "           1       0.96      0.78      0.86       609\n",
      "\n",
      "   micro avg       1.00      1.00      1.00    284807\n",
      "   macro avg       0.98      0.89      0.93    284807\n",
      "weighted avg       1.00      1.00      1.00    284807\n",
      "\n"
     ]
    }
   ],
   "source": [
    "pred=clfsm.predict(X)\n",
    "print(\"CONFUSION METRICS\\n\",metrics.confusion_matrix(pred,y))\n",
    "print(\"\\nCLASSIFICATION REPORT\\n\",metrics.classification_report(pred,y))"
   ]
  },
  {
   "cell_type": "code",
   "execution_count": 14,
   "metadata": {},
   "outputs": [
    {
     "name": "stdout",
     "output_type": "stream",
     "text": [
      "227457 113728\n",
      "K= 0.5\n",
      "\n",
      "CONFUSION METRICS\n",
      " [[56843    14]\n",
      " [   15    90]]\n",
      "\n",
      "CLASSIFICATION REPORT\n",
      "               precision    recall  f1-score   support\n",
      "\n",
      "           0       1.00      1.00      1.00     56857\n",
      "           1       0.87      0.86      0.86       105\n",
      "\n",
      "   micro avg       1.00      1.00      1.00     56962\n",
      "   macro avg       0.93      0.93      0.93     56962\n",
      "weighted avg       1.00      1.00      1.00     56962\n",
      "\n",
      "26.74648952484131\n",
      "----------------------------------------------------------------------------------------------------\n",
      "227457 136474\n",
      "K= 0.6\n",
      "\n",
      "CONFUSION METRICS\n",
      " [[56845    14]\n",
      " [   13    90]]\n",
      "\n",
      "CLASSIFICATION REPORT\n",
      "               precision    recall  f1-score   support\n",
      "\n",
      "           0       1.00      1.00      1.00     56859\n",
      "           1       0.87      0.87      0.87       103\n",
      "\n",
      "   micro avg       1.00      1.00      1.00     56962\n",
      "   macro avg       0.93      0.94      0.93     56962\n",
      "weighted avg       1.00      1.00      1.00     56962\n",
      "\n",
      "54.03240442276001\n",
      "----------------------------------------------------------------------------------------------------\n",
      "227457 159219\n",
      "K= 0.7\n",
      "\n",
      "CONFUSION METRICS\n",
      " [[56844    13]\n",
      " [   14    91]]\n",
      "\n",
      "CLASSIFICATION REPORT\n",
      "               precision    recall  f1-score   support\n",
      "\n",
      "           0       1.00      1.00      1.00     56857\n",
      "           1       0.88      0.87      0.87       105\n",
      "\n",
      "   micro avg       1.00      1.00      1.00     56962\n",
      "   macro avg       0.94      0.93      0.94     56962\n",
      "weighted avg       1.00      1.00      1.00     56962\n",
      "\n",
      "86.49858403205872\n",
      "----------------------------------------------------------------------------------------------------\n",
      "227457 181965\n",
      "K= 0.7999999999999999\n",
      "\n",
      "CONFUSION METRICS\n",
      " [[56842    15]\n",
      " [   16    89]]\n",
      "\n",
      "CLASSIFICATION REPORT\n",
      "               precision    recall  f1-score   support\n",
      "\n",
      "           0       1.00      1.00      1.00     56857\n",
      "           1       0.86      0.85      0.85       105\n",
      "\n",
      "   micro avg       1.00      1.00      1.00     56962\n",
      "   macro avg       0.93      0.92      0.93     56962\n",
      "weighted avg       1.00      1.00      1.00     56962\n",
      "\n",
      "118.45657873153687\n",
      "----------------------------------------------------------------------------------------------------\n",
      "227457 204711\n",
      "K= 0.8999999999999999\n",
      "\n",
      "CONFUSION METRICS\n",
      " [[56843    16]\n",
      " [   15    88]]\n",
      "\n",
      "CLASSIFICATION REPORT\n",
      "               precision    recall  f1-score   support\n",
      "\n",
      "           0       1.00      1.00      1.00     56859\n",
      "           1       0.85      0.85      0.85       103\n",
      "\n",
      "   micro avg       1.00      1.00      1.00     56962\n",
      "   macro avg       0.92      0.93      0.92     56962\n",
      "weighted avg       1.00      1.00      1.00     56962\n",
      "\n",
      "154.99593305587769\n",
      "----------------------------------------------------------------------------------------------------\n",
      "227457 227456\n",
      "K= 0.9999999999999999\n",
      "\n",
      "CONFUSION METRICS\n",
      " [[56838    15]\n",
      " [   20    89]]\n",
      "\n",
      "CLASSIFICATION REPORT\n",
      "               precision    recall  f1-score   support\n",
      "\n",
      "           0       1.00      1.00      1.00     56853\n",
      "           1       0.86      0.82      0.84       109\n",
      "\n",
      "   micro avg       1.00      1.00      1.00     56962\n",
      "   macro avg       0.93      0.91      0.92     56962\n",
      "weighted avg       1.00      1.00      1.00     56962\n",
      "\n",
      "191.99216389656067\n",
      "----------------------------------------------------------------------------------------------------\n"
     ]
    }
   ],
   "source": [
    "t0=time()\n",
    "k=0.5\n",
    "while k<=1:\n",
    "    sm=SMOTE(sampling_strategy=k)\n",
    "    Xtrsm,ytrsm=sm.fit_sample(Xtr,ytr)\n",
    "    c0=Xtrsm[ytrsm==0]\n",
    "    c1=Xtrsm[ytrsm==1]\n",
    "    print(len(c0),len(c1))\n",
    "    adap=RandomForestClassifier(n_estimators=10)\n",
    "    #adap=AdaBoostClassifier(base_estimator=clfsm,n_estimators=10)\n",
    "    adap.fit(Xtrsm,ytrsm)\n",
    "    pred=adap.predict(Xte)\n",
    "    print(\"K=\",k)\n",
    "    print(\"\\nCONFUSION METRICS\\n\",metrics.confusion_matrix(pred,yte))\n",
    "    print(\"\\nCLASSIFICATION REPORT\\n\",metrics.classification_report(pred,yte))\n",
    "    tn=time()-t0\n",
    "    print(tn)\n",
    "    print(\"-\"*100)\n",
    "    k=k+0.1"
   ]
  },
  {
   "cell_type": "code",
   "execution_count": 74,
   "metadata": {},
   "outputs": [
    {
     "name": "stdout",
     "output_type": "stream",
     "text": [
      "227442 159209\n"
     ]
    },
    {
     "data": {
      "text/plain": [
       "AdaBoostClassifier(algorithm='SAMME.R',\n",
       "          base_estimator=RandomForestClassifier(bootstrap=True, class_weight=None, criterion='gini',\n",
       "            max_depth=None, max_features='auto', max_leaf_nodes=None,\n",
       "            min_impurity_decrease=0.0, min_impurity_split=None,\n",
       "            min_samples_leaf=1, min_samples_split=2,\n",
       "            min_weight_fraction_leaf=0.0, n_estimators=15, n_jobs=None,\n",
       "            oob_score=False, random_state=None, verbose=0,\n",
       "            warm_start=False),\n",
       "          learning_rate=1.0, n_estimators=10, random_state=None)"
      ]
     },
     "execution_count": 74,
     "metadata": {},
     "output_type": "execute_result"
    }
   ],
   "source": [
    "sm=SMOTE(sampling_strategy=0.7)\n",
    "Xtrsm,ytrsm=sm.fit_sample(Xtr,ytr)\n",
    "c0=Xtrsm[ytrsm==0]\n",
    "c1=Xtrsm[ytrsm==1]\n",
    "print(len(c0),len(c1))\n",
    "clfsm=RandomForestClassifier(n_estimators=15)\n",
    "adap=AdaBoostClassifier(base_estimator=clfsm,n_estimators=10)\n",
    "adap.fit(Xtrsm,ytrsm)"
   ]
  },
  {
   "cell_type": "code",
   "execution_count": 79,
   "metadata": {},
   "outputs": [
    {
     "name": "stdout",
     "output_type": "stream",
     "text": [
      "\n",
      "CONFUSION METRICS\n",
      " [[284300     16]\n",
      " [    15    476]]\n",
      "\n",
      "CLASSIFICATION REPORT\n",
      "               precision    recall  f1-score   support\n",
      "\n",
      "           0       1.00      1.00      1.00    284316\n",
      "           1       0.97      0.97      0.97       491\n",
      "\n",
      "   micro avg       1.00      1.00      1.00    284807\n",
      "   macro avg       0.98      0.98      0.98    284807\n",
      "weighted avg       1.00      1.00      1.00    284807\n",
      "\n",
      "----------------------------------------------------------------------------------------------------\n"
     ]
    }
   ],
   "source": [
    "pred=adap.predict(X)\n",
    "print(\"\\nCONFUSION METRICS\\n\",metrics.confusion_matrix(pred,y))\n",
    "print(\"\\nCLASSIFICATION REPORT\\n\",metrics.classification_report(pred,y))\n",
    "print(\"-\"*100)"
   ]
  },
  {
   "cell_type": "code",
   "execution_count": 29,
   "metadata": {},
   "outputs": [
    {
     "name": "stdout",
     "output_type": "stream",
     "text": [
      "227442 159209\n"
     ]
    },
    {
     "data": {
      "text/plain": [
       "MLPClassifier(activation='relu', alpha=0.0001, batch_size='auto', beta_1=0.9,\n",
       "       beta_2=0.999, early_stopping=False, epsilon=1e-08,\n",
       "       hidden_layer_sizes=(100,), learning_rate='constant',\n",
       "       learning_rate_init=0.001, max_iter=200, momentum=0.9,\n",
       "       n_iter_no_change=10, nesterovs_momentum=True, power_t=0.5,\n",
       "       random_state=None, shuffle=True, solver='adam', tol=0.0001,\n",
       "       validation_fraction=0.1, verbose=False, warm_start=False)"
      ]
     },
     "execution_count": 29,
     "metadata": {},
     "output_type": "execute_result"
    }
   ],
   "source": [
    "sm=SMOTE(sampling_strategy=0.7)\n",
    "Xtrsm,ytrsm=sm.fit_sample(Xtr,ytr)\n",
    "c0=Xtrsm[ytrsm==0]\n",
    "c1=Xtrsm[ytrsm==1]\n",
    "print(len(c0),len(c1))\n",
    "ner=MLPClassifier(activation=\"relu\")\n",
    "ner.fit(Xtrsm,ytrsm)"
   ]
  },
  {
   "cell_type": "code",
   "execution_count": 30,
   "metadata": {},
   "outputs": [],
   "source": [
    "pred=ner.predict(X)"
   ]
  },
  {
   "cell_type": "code",
   "execution_count": 31,
   "metadata": {},
   "outputs": [
    {
     "name": "stdout",
     "output_type": "stream",
     "text": [
      "              precision    recall  f1-score   support\n",
      "\n",
      "           0       1.00      1.00      1.00    284253\n",
      "           1       0.97      0.86      0.91       554\n",
      "\n",
      "   micro avg       1.00      1.00      1.00    284807\n",
      "   macro avg       0.98      0.93      0.95    284807\n",
      "weighted avg       1.00      1.00      1.00    284807\n",
      "\n"
     ]
    }
   ],
   "source": [
    "print(metrics.classification_report(pred,y))"
   ]
  },
  {
   "cell_type": "code",
   "execution_count": 72,
   "metadata": {},
   "outputs": [
    {
     "name": "stdout",
     "output_type": "stream",
     "text": [
      "[[284237     16]\n",
      " [    78    476]]\n"
     ]
    }
   ],
   "source": [
    "print(metrics.confusion_matrix(pred,y))"
   ]
  },
  {
   "cell_type": "code",
   "execution_count": 71,
   "metadata": {},
   "outputs": [
    {
     "data": {
      "text/plain": [
       "0.96747967479674801"
      ]
     },
     "execution_count": 71,
     "metadata": {},
     "output_type": "execute_result"
    }
   ],
   "source": [
    "metrics.precision_score(pred,y)"
   ]
  },
  {
   "cell_type": "code",
   "execution_count": 70,
   "metadata": {},
   "outputs": [
    {
     "data": {
      "text/plain": [
       "0.8592057761732852"
      ]
     },
     "execution_count": 70,
     "metadata": {},
     "output_type": "execute_result"
    }
   ],
   "source": [
    "metrics.recall_score(pred,y)"
   ]
  },
  {
   "cell_type": "code",
   "execution_count": null,
   "metadata": {},
   "outputs": [],
   "source": []
  },
  {
   "cell_type": "code",
   "execution_count": null,
   "metadata": {},
   "outputs": [],
   "source": []
  },
  {
   "cell_type": "code",
   "execution_count": null,
   "metadata": {},
   "outputs": [],
   "source": []
  },
  {
   "cell_type": "code",
   "execution_count": null,
   "metadata": {},
   "outputs": [],
   "source": []
  }
 ],
 "metadata": {
  "kernelspec": {
   "display_name": "Python 3",
   "language": "python",
   "name": "python3"
  },
  "language_info": {
   "codemirror_mode": {
    "name": "ipython",
    "version": 3
   },
   "file_extension": ".py",
   "mimetype": "text/x-python",
   "name": "python",
   "nbconvert_exporter": "python",
   "pygments_lexer": "ipython3",
   "version": "3.7.2+"
  }
 },
 "nbformat": 4,
 "nbformat_minor": 2
}
